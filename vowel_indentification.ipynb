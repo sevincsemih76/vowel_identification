{
 "cells": [
  {
   "cell_type": "code",
   "execution_count": 7,
   "metadata": {},
   "outputs": [
    {
     "name": "stdout",
     "output_type": "stream",
     "text": [
      "Enter a word: umbrella\n",
      "{'e', 'a', 'u'}\n"
     ]
    }
   ],
   "source": [
    "vowel = [\"a\", \"e\", \"i\", \"o\", \"u\"]\n",
    "lst = []\n",
    "word = input('Enter a word: ').lower()\n",
    "for i in word:\n",
    "    if i in vowel:\n",
    "        lst.append(i)\n",
    "print(set(lst))"
   ]
  },
  {
   "cell_type": "code",
   "execution_count": null,
   "metadata": {},
   "outputs": [],
   "source": []
  }
 ],
 "metadata": {
  "kernelspec": {
   "display_name": "Python 3.8.3 32-bit",
   "language": "python",
   "name": "python38332bit929477a66b87421d8ec9082b1bfadc7e"
  },
  "language_info": {
   "codemirror_mode": {
    "name": "ipython",
    "version": 3
   },
   "file_extension": ".py",
   "mimetype": "text/x-python",
   "name": "python",
   "nbconvert_exporter": "python",
   "pygments_lexer": "ipython3",
   "version": "3.8.3"
  }
 },
 "nbformat": 4,
 "nbformat_minor": 4
}
